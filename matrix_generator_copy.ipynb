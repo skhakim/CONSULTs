{
 "cells": [
  {
   "cell_type": "code",
   "execution_count": 1,
   "metadata": {},
   "outputs": [],
   "source": [
    "from Bio import SeqIO \n",
    "import numpy as np \n",
    "import pandas as pd \n",
    "from matplotlib import pyplot as plt"
   ]
  },
  {
   "cell_type": "code",
   "execution_count": 3,
   "metadata": {},
   "outputs": [],
   "source": [
    "import os"
   ]
  },
  {
   "cell_type": "code",
   "execution_count": 8,
   "metadata": {},
   "outputs": [],
   "source": [
    "def tol_genome_taxonomic_name(id):\n",
    "    for seq_record in SeqIO.parse('tol_genomes/'+ id + '.fna', 'fasta'):\n",
    "        desc = seq_record.description \n",
    "        desc = desc[1+desc.find(\" \"): desc.rfind(\",\")]\n",
    "        # print(desc)\n",
    "        return desc "
   ]
  },
  {
   "cell_type": "code",
   "execution_count": 13,
   "metadata": {},
   "outputs": [],
   "source": [
    "count_matrix = dict() "
   ]
  },
  {
   "cell_type": "code",
   "execution_count": 17,
   "metadata": {},
   "outputs": [
    {
     "name": "stdout",
     "output_type": "stream",
     "text": [
      "Candidatus Korarchaeum cryptofilum OPF8\n",
      "Index(['Query_read_id', '#of matches', 'match (normalized)', 'jaccard'], dtype='object')\n",
      "Gordonia bronchialis DSM 43247\n",
      "Index(['Query_read_id', '#of matches', 'match (normalized)', 'jaccard'], dtype='object')\n",
      "Francisella tularensis subsp. holarctica FTNF002-00\n",
      "Index(['Query_read_id', '#of matches', 'match (normalized)', 'jaccard'], dtype='object')\n",
      "Francisella tularensis subsp. holarctica FTNF002-00\n",
      "Index(['Query_read_id', '#of matches', 'match (normalized)', 'jaccard'], dtype='object')\n",
      "Gordonia bronchialis DSM 43247\n",
      "Index(['Query_read_id', '#of matches', 'match (normalized)', 'jaccard'], dtype='object')\n",
      "Candidatus Korarchaeum cryptofilum OPF8\n",
      "Index(['Query_read_id', '#of matches', 'match (normalized)', 'jaccard'], dtype='object')\n"
     ]
    }
   ],
   "source": [
    "for filename in os.listdir(\"search_result/\"):\n",
    "    pos = filename.find(\"_32_mer_counts_dumps.fa\")\n",
    "    G_id = filename[pos-10:pos] \n",
    "    tax_name = tol_genome_taxonomic_name(G_id)\n",
    "    print(tax_name) \n",
    "    if tax_name not in count_matrix:\n",
    "        count_matrix[tax_name] = dict() \n",
    "    frame = pd.read_csv(\"search_result/\" + filename)\n",
    "    print(frame.columns) \n",
    "    for idx, row in frame.iterrows():\n",
    "        count_matrix[tax_name][row['Query_read_id']] = row['#of matches']"
   ]
  },
  {
   "cell_type": "code",
   "execution_count": 18,
   "metadata": {},
   "outputs": [
    {
     "data": {
      "text/plain": [
       "{'Candidatus Korarchaeum cryptofilum OPF8': {'@my_1_19605': 3,\n",
       "  '@NZ_DF158895.1-13289': 1,\n",
       "  '@NZ_DF158882.1-10579106': 1},\n",
       " 'Gordonia bronchialis DSM 43247': {'@NZ_DF158891.1-83770': 1,\n",
       "  '@NZ_DF158891.1-177859': 1,\n",
       "  '@NZ_DF158891.1-120193': 1,\n",
       "  '@NZ_DF158895.1-6895': 1,\n",
       "  '@NZ_DF158887.1-917197': 1,\n",
       "  '@NZ_BAGV01000118.1-9476': 5,\n",
       "  '@NZ_BAGV01000118.1-10836': 2,\n",
       "  '@NZ_DF158884.1-475920': 1,\n",
       "  '@NZ_DF158887.1-983743': 1,\n",
       "  '@NZ_BAGV01000118.1-8345': 2,\n",
       "  '@NZ_DF158882.1-10536310': 1,\n",
       "  '@NZ_DF158882.1-8860364': 1,\n",
       "  '@NZ_DF158884.1-1773594': 1,\n",
       "  '@NZ_DF158884.1-66872': 1,\n",
       "  '@NZ_DF158884.1-773650': 1},\n",
       " 'Francisella tularensis subsp. holarctica FTNF002-00': {'@my_1_17785 ': 1,\n",
       "  '@NZ_DF158888.1-984413': 1,\n",
       "  '@NZ_DF158882.1-5021441': 2,\n",
       "  '@NZ_DF158883.1-1589870': 2,\n",
       "  '@NZ_DF158895.1-12330': 1,\n",
       "  '@NZ_DF158890.1-279030': 1,\n",
       "  '@NZ_DF158882.1-2381090': 1,\n",
       "  '@NZ_DF158887.1-939592': 1,\n",
       "  '@NZ_DF158885.1-748266': 1,\n",
       "  '@NZ_DF158882.1-11372872': 1,\n",
       "  '@NZ_DF158886.1-392551': 1,\n",
       "  '@NZ_DF158885.1-128261': 1,\n",
       "  '@NZ_DF158890.1-441522': 1,\n",
       "  '@NZ_DF158882.1-10131466': 2,\n",
       "  '@NZ_DF158882.1-6083222': 1,\n",
       "  '@NZ_DF158882.1-2716656': 1,\n",
       "  '@NZ_DF158885.1-871869': 1,\n",
       "  '@NZ_DF158882.1-4184654': 1,\n",
       "  '@NZ_DF158882.1-5363859': 1,\n",
       "  '@NZ_DF158882.1-3850449': 1,\n",
       "  '@NZ_DF158883.1-263787': 3,\n",
       "  '@NZ_DF158886.1-1033111': 1,\n",
       "  '@NZ_DF158891.1-110039': 3,\n",
       "  '@NZ_DF158883.1-2559245': 1,\n",
       "  '@NZ_DF158884.1-487784': 1,\n",
       "  '@NZ_DF158885.1-85894': 1,\n",
       "  '@NZ_BAGV01000128.1-4487': 1,\n",
       "  '@NZ_DF158883.1-2150135': 1,\n",
       "  '@NZ_DF158882.1-6509826': 2,\n",
       "  '@NZ_DF158886.1-361340': 1,\n",
       "  '@NZ_DF158882.1-11599128': 1,\n",
       "  '@NZ_DF158882.1-12724870': 1,\n",
       "  '@NZ_DF158890.1-402132': 1,\n",
       "  '@NZ_DF158882.1-114817': 1,\n",
       "  '@NZ_DF158882.1-291819': 2,\n",
       "  '@NZ_DF158886.1-1303845': 1,\n",
       "  '@NZ_DF158888.1-461529': 1,\n",
       "  '@NZ_DF158882.1-10559338': 1,\n",
       "  '@NZ_DF158882.1-1824584': 1,\n",
       "  '@NZ_DF158887.1-189278': 1,\n",
       "  '@NZ_DF158882.1-3063859': 1,\n",
       "  '@NZ_DF158887.1-919196': 1,\n",
       "  '@NZ_DF158883.1-1935380': 1,\n",
       "  '@NZ_DF158890.1-45258': 1,\n",
       "  '@NZ_DF158884.1-369047': 1,\n",
       "  '@NZ_DF158882.1-10882193': 2,\n",
       "  '@NZ_DF158882.1-4509267': 2,\n",
       "  '@NZ_DF158886.1-1517065': 1,\n",
       "  '@NZ_DF158883.1-584737': 2,\n",
       "  '@NZ_BAGV01000128.1-2663': 1,\n",
       "  '@NZ_DF158882.1-10419524': 1,\n",
       "  '@NZ_DF158883.1-2731555': 2,\n",
       "  '@NZ_DF158884.1-932079': 3,\n",
       "  '@NZ_DF158882.1-7090655': 2,\n",
       "  '@NZ_DF158886.1-470052': 3,\n",
       "  '@NZ_DF158890.1-88474': 2,\n",
       "  '@NZ_DF158886.1-1115765': 1,\n",
       "  '@NZ_DF158891.1-63750': 2,\n",
       "  '@NZ_DF158882.1-7876848': 1,\n",
       "  '@NZ_DF158884.1-663021': 1,\n",
       "  '@NZ_DF158884.1-1165333': 1,\n",
       "  '@NZ_DF158891.1-190490': 3,\n",
       "  '@NZ_DF158891.1-77007': 2,\n",
       "  '@NZ_DF158882.1-5464921': 1,\n",
       "  '@NZ_DF158882.1-4471108': 2,\n",
       "  '@NZ_DF158888.1-586610': 1,\n",
       "  '@NZ_DF158886.1-1218286': 1,\n",
       "  '@NZ_DF158882.1-9812980': 2,\n",
       "  '@NZ_DF158883.1-2982493': 1,\n",
       "  '@NZ_DF158882.1-2100845': 1,\n",
       "  '@NZ_DF158886.1-550832': 1,\n",
       "  '@NZ_DF158884.1-1332274': 3,\n",
       "  '@NZ_DF158884.1-1004173': 3,\n",
       "  '@NZ_DF158891.1-147232': 3,\n",
       "  '@NZ_DF158886.1-69156': 2,\n",
       "  '@NZ_DF158887.1-524220': 1,\n",
       "  '@NZ_DF158887.1-988565': 1,\n",
       "  '@NZ_DF158882.1-8773621': 1,\n",
       "  '@NZ_DF158891.1-18022': 5,\n",
       "  '@NZ_DF158883.1-414290': 2,\n",
       "  '@NZ_DF158882.1-7751312': 2,\n",
       "  '@NZ_DF158891.1-154776': 1}}"
      ]
     },
     "execution_count": 18,
     "metadata": {},
     "output_type": "execute_result"
    }
   ],
   "source": []
  },
  {
   "cell_type": "code",
   "execution_count": null,
   "metadata": {},
   "outputs": [],
   "source": []
  }
 ],
 "metadata": {
  "interpreter": {
   "hash": "4092d5e52ad141e80c696ef19a2617a8d6ac6091de5ca553789a48bd2795615f"
  },
  "kernelspec": {
   "display_name": "Python 3.8.5 64-bit ('base': conda)",
   "name": "python3"
  },
  "language_info": {
   "codemirror_mode": {
    "name": "ipython",
    "version": 3
   },
   "file_extension": ".py",
   "mimetype": "text/x-python",
   "name": "python",
   "nbconvert_exporter": "python",
   "pygments_lexer": "ipython3",
   "version": "3.8.5"
  },
  "orig_nbformat": 4
 },
 "nbformat": 4,
 "nbformat_minor": 2
}
